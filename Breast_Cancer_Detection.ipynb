{
  "nbformat": 4,
  "nbformat_minor": 0,
  "metadata": {
    "colab": {
      "provenance": [],
      "include_colab_link": true
    },
    "kernelspec": {
      "name": "python3",
      "display_name": "Python 3"
    },
    "language_info": {
      "name": "python"
    }
  },
  "cells": [
    {
      "cell_type": "markdown",
      "metadata": {
        "id": "view-in-github",
        "colab_type": "text"
      },
      "source": [
        "<a href=\"https://colab.research.google.com/github/lamyeamaha/CSE475_Breast_Cancer_Detection/blob/main/Breast_Cancer_Detection.ipynb\" target=\"_parent\"><img src=\"https://colab.research.google.com/assets/colab-badge.svg\" alt=\"Open In Colab\"/></a>"
      ]
    },
    {
      "cell_type": "code",
      "execution_count": null,
      "metadata": {
        "id": "W1LMFcvqPfeM"
      },
      "outputs": [],
      "source": [
        "import pandas as pd\n",
        "import numpy as np\n",
        "from sklearn import preprocessing"
      ]
    },
    {
      "cell_type": "markdown",
      "source": [
        "**Loading Dataset:**"
      ],
      "metadata": {
        "id": "0NeTPpTV26oq"
      }
    },
    {
      "cell_type": "code",
      "source": [
        "dataset=pd.read_csv(\"/content/drive/MyDrive/Dataset/breast-cancer.data\")"
      ],
      "metadata": {
        "id": "e-XGIZ8-QII9"
      },
      "execution_count": null,
      "outputs": []
    },
    {
      "cell_type": "markdown",
      "source": [
        "**Adding attribute's names:**"
      ],
      "metadata": {
        "id": "g7seEbUv3ikZ"
      }
    },
    {
      "cell_type": "code",
      "source": [
        "dataset.columns=['class','age','menopause','tumor-size','inv-nodes','node-caps','deg-malig','breast','breast-quad','irradiat']\n",
        "print(dataset.head())"
      ],
      "metadata": {
        "colab": {
          "base_uri": "https://localhost:8080/"
        },
        "id": "fPSgjh9jRihO",
        "outputId": "45d21772-5b6b-4a4c-c668-08c3d21f7d0c"
      },
      "execution_count": null,
      "outputs": [
        {
          "output_type": "stream",
          "name": "stdout",
          "text": [
            "                  class    age menopause tumor-size inv-nodes node-caps  \\\n",
            "0  no-recurrence-events  40-49   premeno      20-24       0-2        no   \n",
            "1  no-recurrence-events  40-49   premeno      20-24       0-2        no   \n",
            "2  no-recurrence-events  60-69      ge40      15-19       0-2        no   \n",
            "3  no-recurrence-events  40-49   premeno        0-4       0-2        no   \n",
            "4  no-recurrence-events  60-69      ge40      15-19       0-2        no   \n",
            "\n",
            "   deg-malig breast breast-quad irradiat  \n",
            "0          2  right    right_up       no  \n",
            "1          2   left    left_low       no  \n",
            "2          2  right     left_up       no  \n",
            "3          2  right   right_low       no  \n",
            "4          2   left    left_low       no  \n"
          ]
        }
      ]
    },
    {
      "cell_type": "markdown",
      "source": [
        "**Replacing missing values:**"
      ],
      "metadata": {
        "id": "hwlQGeOw3oVB"
      }
    },
    {
      "cell_type": "code",
      "source": [
        "dataset[\"node-caps\"].replace({\"?\":\"\"}, inplace=True)\n",
        "dataset[\"breast-quad\"].replace({\"?\":\"\"}, inplace=True)"
      ],
      "metadata": {
        "id": "UoG7ZoDGWmiP"
      },
      "execution_count": null,
      "outputs": []
    },
    {
      "cell_type": "markdown",
      "source": [
        "**Data Encoding:**"
      ],
      "metadata": {
        "id": "Mp8401Cs3vPZ"
      }
    },
    {
      "cell_type": "code",
      "source": [
        "label_encoder = preprocessing.LabelEncoder()\n",
        "\n",
        "dataset['class']= label_encoder.fit_transform(dataset['class'])\n",
        "dataset['age']= label_encoder.fit_transform(dataset['age'])\n",
        "dataset['menopause']= label_encoder.fit_transform(dataset['menopause'])\n",
        "dataset['tumor-size']= label_encoder.fit_transform(dataset['tumor-size'])\n",
        "dataset['inv-nodes']= label_encoder.fit_transform(dataset['inv-nodes'])\n",
        "dataset['node-caps']= label_encoder.fit_transform(dataset['node-caps'])\n",
        "dataset['breast-quad']= label_encoder.fit_transform(dataset['breast-quad'])\n",
        "dataset['breast']= label_encoder.fit_transform(dataset['breast'])\n",
        "dataset['irradiat']= label_encoder.fit_transform(dataset['irradiat'])\n",
        "\n",
        "print(dataset.head())"
      ],
      "metadata": {
        "colab": {
          "base_uri": "https://localhost:8080/"
        },
        "id": "HxygSW4uSFQi",
        "outputId": "f1679d61-ad6d-432d-8168-08b543f8d589"
      },
      "execution_count": null,
      "outputs": [
        {
          "output_type": "stream",
          "name": "stdout",
          "text": [
            "   class  age  menopause  tumor-size  inv-nodes  node-caps  deg-malig  breast  \\\n",
            "0      0    2          2           3          0          1          2       1   \n",
            "1      0    2          2           3          0          1          2       0   \n",
            "2      0    4          0           2          0          1          2       1   \n",
            "3      0    2          2           0          0          1          2       1   \n",
            "4      0    4          0           2          0          1          2       0   \n",
            "\n",
            "   breast-quad  irradiat  \n",
            "0            5         0  \n",
            "1            2         0  \n",
            "2            3         0  \n",
            "3            4         0  \n",
            "4            2         0  \n"
          ]
        }
      ]
    },
    {
      "cell_type": "markdown",
      "source": [
        "**Filling missing values:**"
      ],
      "metadata": {
        "id": "UCwG0cXA3y_a"
      }
    },
    {
      "cell_type": "code",
      "source": [
        "dataset.fillna(dataset.median(), inplace=True)"
      ],
      "metadata": {
        "id": "nL3gyupDZZ34"
      },
      "execution_count": null,
      "outputs": []
    },
    {
      "cell_type": "code",
      "source": [
        "from sklearn.model_selection import train_test_split\n",
        "from sklearn.ensemble import RandomForestClassifier\n",
        "from sklearn.metrics import classification_report, confusion_matrix, accuracy_score\n",
        "from sklearn import metrics"
      ],
      "metadata": {
        "id": "tC04YV92Zj2X"
      },
      "execution_count": null,
      "outputs": []
    },
    {
      "cell_type": "code",
      "source": [
        "train, test = train_test_split(dataset, test_size=0.3)\n",
        "train_features = train.iloc[:,1:10]\n",
        "train_target = train[\"class\"]\n",
        "test_features = test.iloc[:,1:10]\n",
        "test_target = test[\"class\"]"
      ],
      "metadata": {
        "id": "beCfV-kQRZEb"
      },
      "execution_count": null,
      "outputs": []
    },
    {
      "cell_type": "code",
      "source": [
        "from sklearn.preprocessing import StandardScaler\n",
        "std_scaler = StandardScaler()\n",
        "\n",
        "train_features = std_scaler.fit_transform(train_features)\n",
        "\n",
        "test_features = std_scaler.fit_transform(test_features)"
      ],
      "metadata": {
        "id": "9zAE-4xyR110"
      },
      "execution_count": null,
      "outputs": []
    },
    {
      "cell_type": "markdown",
      "source": [
        "**Hyperparamets tuning for Random Forest Classifier:**"
      ],
      "metadata": {
        "id": "hdXf5wx9a29_"
      }
    },
    {
      "cell_type": "code",
      "source": [
        "from sklearn.model_selection import GridSearchCV\n",
        "\n",
        "rfc=RandomForestClassifier(random_state=42)\n",
        "\n",
        "param_grid = {\n",
        "    'n_estimators': [200, 500],\n",
        "    'max_features': ['auto', 'sqrt', 'log2'],\n",
        "    'max_depth' : [4,5,6,7,8],\n",
        "    'criterion' :['gini', 'entropy']\n",
        "}\n",
        "\n",
        "\n",
        "CV_rfc = GridSearchCV(estimator=rfc, param_grid=param_grid, cv= 5)\n",
        "CV_rfc.fit(train_features, train_target)\n"
      ],
      "metadata": {
        "colab": {
          "base_uri": "https://localhost:8080/"
        },
        "id": "kynIxiIbVtHe",
        "outputId": "d5449e9c-50d2-4034-e113-571136d2d2bb"
      },
      "execution_count": null,
      "outputs": [
        {
          "output_type": "execute_result",
          "data": {
            "text/plain": [
              "GridSearchCV(cv=5, estimator=RandomForestClassifier(random_state=42),\n",
              "             param_grid={'criterion': ['gini', 'entropy'],\n",
              "                         'max_depth': [4, 5, 6, 7, 8],\n",
              "                         'max_features': ['auto', 'sqrt', 'log2'],\n",
              "                         'n_estimators': [200, 500]})"
            ]
          },
          "metadata": {},
          "execution_count": 88
        }
      ]
    },
    {
      "cell_type": "code",
      "source": [
        "CV_rfc.best_params_"
      ],
      "metadata": {
        "colab": {
          "base_uri": "https://localhost:8080/"
        },
        "id": "VlrL3xr2XQGe",
        "outputId": "fcd964e6-fd15-49f9-baae-8db1f7a22317"
      },
      "execution_count": null,
      "outputs": [
        {
          "output_type": "execute_result",
          "data": {
            "text/plain": [
              "{'criterion': 'gini',\n",
              " 'max_depth': 4,\n",
              " 'max_features': 'auto',\n",
              " 'n_estimators': 500}"
            ]
          },
          "metadata": {},
          "execution_count": 90
        }
      ]
    },
    {
      "cell_type": "markdown",
      "source": [
        "**Random forest classifier:**"
      ],
      "metadata": {
        "id": "8_ghHFaS32ra"
      }
    },
    {
      "cell_type": "code",
      "source": [
        "rfc = RandomForestClassifier(n_estimators=500,criterion='gini',max_depth= 4,max_features='auto')\n",
        "rfc.fit(train_features,train_target)\n",
        "\n",
        "predicted_target = rfc.predict(test_features)\n",
        "\n",
        "print(\"Confusion matrix: \\n\")\n",
        "print(confusion_matrix(test_target,predicted_target))\n",
        "print(\"\\nClassification report: \\n\")\n",
        "print(classification_report(test_target,predicted_target))\n",
        "print(\"Accuracy: {}\".format(accuracy_score(test_target, predicted_target)))"
      ],
      "metadata": {
        "colab": {
          "base_uri": "https://localhost:8080/"
        },
        "id": "UrtZmFoxZrFn",
        "outputId": "5baf2b6d-ced2-4a9b-81bc-9f628469b651"
      },
      "execution_count": null,
      "outputs": [
        {
          "output_type": "stream",
          "name": "stdout",
          "text": [
            "Confusion matrix: \n",
            "\n",
            "[[60  5]\n",
            " [11 10]]\n",
            "\n",
            "Classification report: \n",
            "\n",
            "              precision    recall  f1-score   support\n",
            "\n",
            "           0       0.85      0.92      0.88        65\n",
            "           1       0.67      0.48      0.56        21\n",
            "\n",
            "    accuracy                           0.81        86\n",
            "   macro avg       0.76      0.70      0.72        86\n",
            "weighted avg       0.80      0.81      0.80        86\n",
            "\n",
            "Accuracy: 0.813953488372093\n"
          ]
        }
      ]
    },
    {
      "cell_type": "markdown",
      "source": [
        "**Decision Tree Classifier:**"
      ],
      "metadata": {
        "id": "vRNs051338HD"
      }
    },
    {
      "cell_type": "code",
      "source": [
        "from sklearn.tree import DecisionTreeClassifier\n",
        "\n",
        "dtc = DecisionTreeClassifier(criterion='entropy',max_depth= 4)\n",
        "dtc = dtc.fit(train_features,train_target)\n",
        "y_pred = dtc.predict(test_features)\n",
        "\n",
        "print(\"Confusion matrix: \\n\")\n",
        "print(confusion_matrix(test_target,y_pred))\n",
        "print(\"\\nClassification report: \\n\")\n",
        "print(classification_report(test_target,y_pred))\n",
        "print(\"Accuracy: {}\".format(accuracy_score(test_target, y_pred)))"
      ],
      "metadata": {
        "colab": {
          "base_uri": "https://localhost:8080/"
        },
        "id": "m9KZjCdkYTPP",
        "outputId": "aa5e56bf-4e1c-493b-d487-b30e9a161497"
      },
      "execution_count": null,
      "outputs": [
        {
          "output_type": "stream",
          "name": "stdout",
          "text": [
            "Confusion matrix: \n",
            "\n",
            "[[57  8]\n",
            " [11 10]]\n",
            "\n",
            "Classification report: \n",
            "\n",
            "              precision    recall  f1-score   support\n",
            "\n",
            "           0       0.84      0.88      0.86        65\n",
            "           1       0.56      0.48      0.51        21\n",
            "\n",
            "    accuracy                           0.78        86\n",
            "   macro avg       0.70      0.68      0.68        86\n",
            "weighted avg       0.77      0.78      0.77        86\n",
            "\n",
            "Accuracy: 0.7790697674418605\n"
          ]
        }
      ]
    },
    {
      "cell_type": "markdown",
      "source": [
        "**Support Vector Machine Classifier:**"
      ],
      "metadata": {
        "id": "_bcB-0K54EFJ"
      }
    },
    {
      "cell_type": "code",
      "source": [
        "from sklearn import svm\n",
        "\n",
        "SVM = svm.SVC(kernel = 'rbf', C = 15, probability = True)\n",
        "SVM.fit(train_features,train_target)\n",
        "y_pred2 = SVM.predict(test_features)\n",
        "\n",
        "print(\"Confusion matrix: \\n\")\n",
        "print(confusion_matrix(test_target,y_pred2))\n",
        "print(\"\\nClassification report: \\n\")\n",
        "print(classification_report(test_target,y_pred2))\n",
        "print(\"Accuracy: {}\".format(accuracy_score(test_target, y_pred2)))"
      ],
      "metadata": {
        "colab": {
          "base_uri": "https://localhost:8080/"
        },
        "id": "nJWseW2LbVe_",
        "outputId": "6dbe2c2d-ac48-4a41-fcc6-d2052bfc818c"
      },
      "execution_count": null,
      "outputs": [
        {
          "output_type": "stream",
          "name": "stdout",
          "text": [
            "Confusion matrix: \n",
            "\n",
            "[[53 12]\n",
            " [ 8 13]]\n",
            "\n",
            "Classification report: \n",
            "\n",
            "              precision    recall  f1-score   support\n",
            "\n",
            "           0       0.87      0.82      0.84        65\n",
            "           1       0.52      0.62      0.57        21\n",
            "\n",
            "    accuracy                           0.77        86\n",
            "   macro avg       0.69      0.72      0.70        86\n",
            "weighted avg       0.78      0.77      0.77        86\n",
            "\n",
            "Accuracy: 0.7674418604651163\n"
          ]
        }
      ]
    },
    {
      "cell_type": "markdown",
      "source": [
        "**Hyperparameter tuning for XGBoost**"
      ],
      "metadata": {
        "id": "Lwuddp8_aszP"
      }
    },
    {
      "cell_type": "code",
      "source": [
        "import xgboost as xgb\n",
        "from sklearn.model_selection import GridSearchCV\n",
        "from sklearn import datasets\n",
        "\n",
        "clf = xgb.XGBClassifier()\n",
        "parameters = {\n",
        "    'n_estimators': [100, 250, 500],\n",
        "    'max_depth': [6, 9, 12],\n",
        "    'subsample': [0.9, 1.0],\n",
        "    'colsample_bytree': [0.9, 1.0],\n",
        "}\n",
        "\n",
        "grid = GridSearchCV(clf,\n",
        "                    parameters, n_jobs=4,\n",
        "                    scoring=\"neg_log_loss\",\n",
        "                    cv=3)\n",
        "\n",
        "grid.fit(train_features, train_target)\n"
      ],
      "metadata": {
        "colab": {
          "base_uri": "https://localhost:8080/"
        },
        "id": "DN-rHxSTaMYO",
        "outputId": "2fd6c5da-c891-4064-ec73-30acbdab3306"
      },
      "execution_count": null,
      "outputs": [
        {
          "output_type": "execute_result",
          "data": {
            "text/plain": [
              "GridSearchCV(cv=3, estimator=XGBClassifier(), n_jobs=4,\n",
              "             param_grid={'colsample_bytree': [0.9, 1.0],\n",
              "                         'max_depth': [6, 9, 12],\n",
              "                         'n_estimators': [100, 250, 500],\n",
              "                         'subsample': [0.9, 1.0]},\n",
              "             scoring='neg_log_loss')"
            ]
          },
          "metadata": {},
          "execution_count": 106
        }
      ]
    },
    {
      "cell_type": "code",
      "source": [
        "grid.best_params_"
      ],
      "metadata": {
        "colab": {
          "base_uri": "https://localhost:8080/"
        },
        "id": "EViAtdueaaGJ",
        "outputId": "fdf62718-b073-4730-c955-2d9dfd3d4c27"
      },
      "execution_count": null,
      "outputs": [
        {
          "output_type": "execute_result",
          "data": {
            "text/plain": [
              "{'colsample_bytree': 0.9,\n",
              " 'max_depth': 9,\n",
              " 'n_estimators': 100,\n",
              " 'subsample': 1.0}"
            ]
          },
          "metadata": {},
          "execution_count": 107
        }
      ]
    },
    {
      "cell_type": "markdown",
      "source": [
        "**XGBoost (gradient-boosted) classifier:**"
      ],
      "metadata": {
        "id": "9GxLbeXt4Mix"
      }
    },
    {
      "cell_type": "code",
      "source": [
        "from xgboost import XGBClassifier\n",
        "\n",
        "xgc=XGBClassifier(n_estimators=100,max_depth= 9,subsample=1.0,colsample_bytree=0.9)\n",
        "xgc.fit(train_features,train_target)\n",
        "y_pred3 = xgc.predict(test_features)\n",
        "\n",
        "print(\"Confusion matrix: \\n\")\n",
        "print(confusion_matrix(test_target,y_pred3))\n",
        "print(\"\\nClassification report: \\n\")\n",
        "print(classification_report(test_target,y_pred3))\n",
        "print(\"Accuracy: {}\".format(accuracy_score(test_target, y_pred3)))"
      ],
      "metadata": {
        "colab": {
          "base_uri": "https://localhost:8080/"
        },
        "id": "Hk_9roDtcoUn",
        "outputId": "4d4c8d26-122f-454f-d1f7-2391f6c8b425"
      },
      "execution_count": null,
      "outputs": [
        {
          "output_type": "stream",
          "name": "stdout",
          "text": [
            "Confusion matrix: \n",
            "\n",
            "[[49 16]\n",
            " [ 7 14]]\n",
            "\n",
            "Classification report: \n",
            "\n",
            "              precision    recall  f1-score   support\n",
            "\n",
            "           0       0.88      0.75      0.81        65\n",
            "           1       0.47      0.67      0.55        21\n",
            "\n",
            "    accuracy                           0.73        86\n",
            "   macro avg       0.67      0.71      0.68        86\n",
            "weighted avg       0.78      0.73      0.75        86\n",
            "\n",
            "Accuracy: 0.7325581395348837\n"
          ]
        }
      ]
    }
  ]
}